{
  "nbformat": 4,
  "nbformat_minor": 0,
  "metadata": {
    "colab": {
      "provenance": []
    },
    "kernelspec": {
      "name": "python3",
      "display_name": "Python 3"
    },
    "language_info": {
      "name": "python"
    }
  },
  "cells": [
    {
      "cell_type": "code",
      "source": [
        "from google.colab import userdata\n",
        "from openai import OpenAI"
      ],
      "metadata": {
        "id": "8ii8teuunVD0"
      },
      "execution_count": null,
      "outputs": []
    },
    {
      "cell_type": "code",
      "source": [
        "!pip list"
      ],
      "metadata": {
        "id": "V3VrES6R6bvu"
      },
      "execution_count": null,
      "outputs": []
    },
    {
      "cell_type": "code",
      "source": [],
      "metadata": {
        "id": "EBxcj825vt-r"
      },
      "execution_count": null,
      "outputs": []
    },
    {
      "cell_type": "code",
      "source": [
        "schema = {\n",
        "    \"name\": \"schema\",\n",
        "    \"schema\": {\n",
        "        \"type\": \"object\",\n",
        "        \"properties\": {\n",
        "            \"length\": {\n",
        "                \"description\": \"Length of the input.\",\n",
        "                \"type\": \"string\"\n",
        "            },\n",
        "            \"toxicity\": {\n",
        "                \"description\": \"How toxic is text from 1 to 10.\",\n",
        "                \"type\": \"string\"\n",
        "            },\n",
        "            \"additionalProperties\": False\n",
        "        }\n",
        "    }\n",
        "}"
      ],
      "metadata": {
        "id": "29xDP4x2s9lv"
      },
      "execution_count": null,
      "outputs": []
    },
    {
      "cell_type": "code",
      "source": [
        "completion = client.chat.completions.create(\n",
        "  model=\"gpt-3.5-turbo-0125\",\n",
        "  messages=[\n",
        "    {\"role\": \"system\", \"content\": \"This is toxic detection assistant.\"},\n",
        "    {\"role\": \"user\", \"content\": \"Detect how toxic is the text\"}\n",
        "  ],\n",
        "  temperature=0\n",
        ")\n",
        "display(completion.choices[0].message.content)"
      ],
      "metadata": {
        "id": "pKhrrHAHuyy7"
      },
      "execution_count": null,
      "outputs": []
    },
    {
      "cell_type": "code",
      "source": [
        "with open('')"
      ],
      "metadata": {
        "id": "bXJGUSffofsA"
      },
      "execution_count": null,
      "outputs": []
    },
    {
      "cell_type": "code",
      "execution_count": null,
      "metadata": {
        "colab": {
          "base_uri": "https://localhost:8080/"
        },
        "id": "OPmb8ubZj3qm",
        "outputId": "3e2a9f22-aceb-444d-b584-abc0d0749d1b"
      },
      "outputs": [
        {
          "output_type": "execute_result",
          "data": {
            "text/plain": [
              "FineTuningJob(id='ftjob-XYQDqjJlsd3qoy713l8y1qJX', created_at=1733416315, error=Error(code=None, message=None, param=None), fine_tuned_model=None, finished_at=None, hyperparameters=Hyperparameters(n_epochs='auto', batch_size='auto', learning_rate_multiplier='auto'), model='gpt-3.5-turbo-0125', object='fine_tuning.job', organization_id='org-ViCvdYBXIVXi0arRlxmMG0TT', result_files=[], seed=916116838, status='validating_files', trained_tokens=None, training_file='file-yug9ZyV0yHgcjkkZtDDJxjDi', validation_file=None, estimated_finish=None, integrations=[], user_provided_suffix=None)"
            ]
          },
          "metadata": {},
          "execution_count": 6
        }
      ],
      "source": [
        "client = OpenAI(api_key=userdata.get('OPENAI_PERSONAL'))\n",
        "\n",
        "# client.files.list()\n",
        "\n",
        "# client.files.create(\n",
        "#   file=open(\"mydata.jsonl\", \"rb\"),\n",
        "#   purpose=\"fine-tune\"\n",
        "# )\n",
        "\n",
        "client.fine_tuning.jobs.create(\n",
        "  training_file=\"file-yug9ZyV0yHgcjkkZtDDJxjDi\",\n",
        "  model=\"gpt-3.5-turbo-0125\",\n",
        "\n",
        ")"
      ]
    },
    {
      "cell_type": "code",
      "source": [
        "client.fine_tuning.jobs.list(limit=10)"
      ],
      "metadata": {
        "id": "5aUiLWHwqiXF"
      },
      "execution_count": null,
      "outputs": []
    },
    {
      "cell_type": "code",
      "source": [
        "client.fine_tuning.jobs.retrieve(\"ftjob-XYQDqjJlsd3qoy713l8y1qJX\")"
      ],
      "metadata": {
        "colab": {
          "base_uri": "https://localhost:8080/"
        },
        "id": "FI4RHzojqlyt",
        "outputId": "ee761484-97a9-4c6c-a9c8-330a697ab2c4"
      },
      "execution_count": null,
      "outputs": [
        {
          "output_type": "execute_result",
          "data": {
            "text/plain": [
              "FineTuningJob(id='ftjob-XYQDqjJlsd3qoy713l8y1qJX', created_at=1733416315, error=Error(code=None, message=None, param=None), fine_tuned_model=None, finished_at=None, hyperparameters=Hyperparameters(n_epochs=7, batch_size=1, learning_rate_multiplier=2), model='gpt-3.5-turbo-0125', object='fine_tuning.job', organization_id='org-ViCvdYBXIVXi0arRlxmMG0TT', result_files=[], seed=916116838, status='running', trained_tokens=None, training_file='file-yug9ZyV0yHgcjkkZtDDJxjDi', validation_file=None, estimated_finish=None, integrations=[], user_provided_suffix=None)"
            ]
          },
          "metadata": {},
          "execution_count": 9
        }
      ]
    },
    {
      "cell_type": "code",
      "source": [
        "# List 10 fine-tuning jobs\n",
        "client.fine_tuning.jobs.list(limit=10)\n",
        "\n",
        "# Retrieve the state of a fine-tune\n",
        "client.fine_tuning.jobs.retrieve(\"ftjob-abc123\")\n",
        "\n",
        "# Cancel a job\n",
        "client.fine_tuning.jobs.cancel(\"ftjob-abc123\")"
      ],
      "metadata": {
        "id": "v-CGgW4nlEAL"
      },
      "execution_count": null,
      "outputs": []
    },
    {
      "cell_type": "code",
      "source": [
        "completion = client.chat.completions.create(\n",
        "  model=\"ft:gpt-3.5-turbo-0125:personal::9R0iveGo\",\n",
        "  messages=[\n",
        "    {\"role\": \"system\", \"content\": \"Це чат-бот, який спілкується та відповідає як Кузьма Скрябін\"},\n",
        "    {\"role\": \"user\", \"content\": \"розкажи якийсь анекдот\"}\n",
        "  ],\n",
        "  temperature=0\n",
        ")\n",
        "display(completion.choices[0].message.content)"
      ],
      "metadata": {
        "colab": {
          "base_uri": "https://localhost:8080/",
          "height": 53
        },
        "id": "6hgUmdEymBMj",
        "outputId": "9d4012d1-3aef-4e53-e43c-f4c685b43577"
      },
      "execution_count": null,
      "outputs": [
        {
          "output_type": "display_data",
          "data": {
            "text/plain": [
              "'Новий анекдот: приходить мужик до лікаря і каже: ‘Доктор, у мене таке враження, що я – комп’ютер’. Лікар його тільки так дивиться. Він каже: ‘Ну, якщо чесно, мені на твої слова байдуже, але ти вийми мишку з заду, вона мені моторошно виглядає’.'"
            ],
            "application/vnd.google.colaboratory.intrinsic+json": {
              "type": "string"
            }
          },
          "metadata": {}
        }
      ]
    },
    {
      "cell_type": "code",
      "source": [
        "completion = client.chat.completions.create(\n",
        "  model=\"gpt-3.5-turbo-0125\",\n",
        "  messages=[\n",
        "    {\"role\": \"system\", \"content\": \"Це чат-бот, який спілкується та відповідає як Кузьма Скрябін\"},\n",
        "    {\"role\": \"user\", \"content\": \"Яка твоя улюблена пісня?\"}\n",
        "  ],\n",
        "  temperature=0\n",
        ")\n",
        "display(completion.choices[0].message.content)"
      ],
      "metadata": {
        "colab": {
          "base_uri": "https://localhost:8080/"
        },
        "id": "uvuZNqOOrqQi",
        "outputId": "3e136c1c-f65c-4552-a5b1-83e4e64bcae5"
      },
      "execution_count": null,
      "outputs": [
        {
          "output_type": "stream",
          "name": "stdout",
          "text": [
            "Привіт! Моя улюблена пісня - \"Мам\"! А яка твоя улюблена пісня?\n"
          ]
        }
      ]
    }
  ]
}